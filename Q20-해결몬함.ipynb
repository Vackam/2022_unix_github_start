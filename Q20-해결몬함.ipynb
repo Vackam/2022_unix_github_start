{
  "nbformat": 4,
  "nbformat_minor": 0,
  "metadata": {
    "colab": {
      "name": "HW07.ipynb의 사본",
      "provenance": [],
      "include_colab_link": true
    },
    "kernelspec": {
      "name": "python3",
      "display_name": "Python 3"
    },
    "language_info": {
      "name": "python"
    }
  },
  "cells": [
    {
      "cell_type": "markdown",
      "metadata": {
        "id": "view-in-github",
        "colab_type": "text"
      },
      "source": [
        "<a href=\"https://colab.research.google.com/github/Vackam/2022_unix_github_start/blob/master/Q20-%ED%95%B4%EA%B2%B0%EB%AA%AC%ED%95%A8.ipynb\" target=\"_parent\"><img src=\"https://colab.research.google.com/assets/colab-badge.svg\" alt=\"Open In Colab\"/></a>"
      ]
    },
    {
      "cell_type": "markdown",
      "source": [
        "## Q.19\n"
      ],
      "metadata": {
        "id": "fvuyMiXOPcLS"
      }
    },
    {
      "cell_type": "code",
      "source": [
        "import numpy as np\n",
        "import pandas as pd\n",
        "from sklearn import linear_model\n",
        "from sklearn import metrics\n",
        "import seaborn as sn\n",
        "import matplotlib.pyplot as plt\n",
        "data = pd.read_csv('https://raw.githubusercontent.com/inetguru/IDS-CB35533/main/diabetes.csv')\n",
        "data.head()\n",
        "train_data = data[:400]\n",
        "test_data = data[401:442]\n",
        "\n",
        "print(data.head())\n",
        "data_set = data.columns.to_list()\n",
        "data_set.remove('Y')\n",
        "print(data_set)"
      ],
      "metadata": {
        "id": "7Bg-CHi6P7T4",
        "outputId": "dfdeb408-249f-4282-8f91-1ae9d1b6120c",
        "colab": {
          "base_uri": "https://localhost:8080/"
        }
      },
      "execution_count": 22,
      "outputs": [
        {
          "output_type": "stream",
          "name": "stdout",
          "text": [
            "   AGE  SEX   BMI     BP   S1     S2    S3   S4      S5  S6    Y\n",
            "0   59    2  32.1  101.0  157   93.2  38.0  4.0  4.8598  87  151\n",
            "1   48    1  21.6   87.0  183  103.2  70.0  3.0  3.8918  69   75\n",
            "2   72    2  30.5   93.0  156   93.6  41.0  4.0  4.6728  85  141\n",
            "3   24    1  25.3   84.0  198  131.4  40.0  5.0  4.8903  89  206\n",
            "4   50    1  23.0  101.0  192  125.4  52.0  4.0  4.2905  80  135\n",
            "['AGE', 'SEX', 'BMI', 'BP', 'S1', 'S2', 'S3', 'S4', 'S5', 'S6']\n"
          ]
        }
      ]
    },
    {
      "cell_type": "code",
      "source": [
        "predictors = ['S5']\n",
        "target = 'Y'\n",
        "\n",
        "X = train_data[predictors]\n",
        "y = train_data[target]\n",
        "\n",
        "X_test = test_data[predictors]\n",
        "y_test = test_data[target]\n",
        "\n",
        "model = linear_model.LinearRegression()\n",
        "model.fit(X.values, y)\n",
        "\n",
        "print(f'Intercpet = {model.intercept_}, coef = {model.coef_}')"
      ],
      "metadata": {
        "id": "wb4Veg0F3Jn-",
        "outputId": "1c1c2d06-e5f5-4b47-ca8e-0d6fabb92925",
        "colab": {
          "base_uri": "https://localhost:8080/"
        }
      },
      "execution_count": 14,
      "outputs": [
        {
          "output_type": "stream",
          "name": "stdout",
          "text": [
            "Intercpet = -228.85089682835022, coef = [82.09454934]\n"
          ]
        }
      ]
    },
    {
      "cell_type": "code",
      "source": [
        "predict_value = [5.0]\n",
        "\n",
        "test = model.predict([predict_value])\n",
        "print(test)"
      ],
      "metadata": {
        "id": "aEOTAP6-3ybQ",
        "outputId": "dbdc3b3e-35d3-4ec6-e700-5c9a51ff5711",
        "colab": {
          "base_uri": "https://localhost:8080/"
        }
      },
      "execution_count": 15,
      "outputs": [
        {
          "output_type": "stream",
          "name": "stdout",
          "text": [
            "[181.62184987]\n"
          ]
        }
      ]
    },
    {
      "cell_type": "code",
      "source": [
        "y_pred = model.predict(X_test.values)\n",
        "metrics.r2_score(y_test, y_pred)"
      ],
      "metadata": {
        "id": "9faVW9ny4NXS",
        "outputId": "34a37bdb-47d9-48bd-e4f5-79617564f8d0",
        "colab": {
          "base_uri": "https://localhost:8080/"
        }
      },
      "execution_count": 16,
      "outputs": [
        {
          "output_type": "execute_result",
          "data": {
            "text/plain": [
              "0.3827486686389362"
            ]
          },
          "metadata": {},
          "execution_count": 16
        }
      ]
    },
    {
      "cell_type": "markdown",
      "source": [
        "멀티로 조져보자."
      ],
      "metadata": {
        "id": "UpBwpALo5KiK"
      }
    },
    {
      "cell_type": "code",
      "source": [
        "predictors = ['BMI', 'BP', 'S5']\n",
        "X = train_data[predictors]\n",
        "y = train_data[target]\n",
        "\n",
        "X_test = test_data[predictors]\n",
        "y_test = test_data[target]\n",
        "\n",
        "model.fit(X.values, y)\n",
        "print(f'인터셉트 = {model.intercept_}, coef = {model.coef_}')"
      ],
      "metadata": {
        "id": "Be-uEZ7Y5JzN",
        "outputId": "b14671f3-e917-4c27-f3bd-e6eafad32a5b",
        "colab": {
          "base_uri": "https://localhost:8080/"
        }
      },
      "execution_count": 29,
      "outputs": [
        {
          "output_type": "stream",
          "name": "stdout",
          "text": [
            "인터셉트 = -325.18966604156685, coef = [ 6.53422514  0.83030768 48.87455825]\n"
          ]
        }
      ]
    },
    {
      "cell_type": "markdown",
      "source": [
        ""
      ],
      "metadata": {
        "id": "1auFF6I15Jj4"
      }
    },
    {
      "cell_type": "code",
      "source": [
        "predict_value = [[30.5, 100.0, 5.0]]\n",
        "print(f'Predict_value = {model.predict(predict_value)}')"
      ],
      "metadata": {
        "id": "lYWBir4Z5IBY",
        "outputId": "1ccdba57-5bde-4f14-cb50-f879947b785f",
        "colab": {
          "base_uri": "https://localhost:8080/"
        }
      },
      "execution_count": 18,
      "outputs": [
        {
          "output_type": "stream",
          "name": "stdout",
          "text": [
            "Predict_value = [201.50776025]\n"
          ]
        }
      ]
    },
    {
      "cell_type": "code",
      "source": [
        "y_pred = model.predict(X_test.values)\n",
        "print(f'r2 value = {metrics.r2_score(y_test, y_pred)}')"
      ],
      "metadata": {
        "id": "EqSodOQX6Erf",
        "outputId": "5778d5a2-7946-4545-dace-5830fe043bd2",
        "colab": {
          "base_uri": "https://localhost:8080/"
        }
      },
      "execution_count": 19,
      "outputs": [
        {
          "output_type": "stream",
          "name": "stdout",
          "text": [
            "r2 value = 0.6670206042062763\n"
          ]
        }
      ]
    },
    {
      "cell_type": "code",
      "source": [
        "a = dict()\n",
        "\n",
        "for plus_data in data_set:\n",
        "  if plus_data in predictors:\n",
        "    continue\n",
        "  predictors.append(plus_data)\n",
        "  X = train_data[predictors]\n",
        "  y = train_data[target]\n",
        "\n",
        "  X_test = test_data[predictors]\n",
        "  y_test = test_data[target]\n",
        "\n",
        "  model.fit(X.values, y)\n",
        "  y_pred = model.predict(X_test.values)\n",
        "  \n",
        "  a[plus_data] = metrics.r2_score(y_test, y_pred)\n",
        "  \n",
        "  predictors.remove(plus_data)\n",
        "\n",
        "print(a)"
      ],
      "metadata": {
        "id": "8NU07Ra_60hE",
        "outputId": "112df68c-af77-431b-8bb2-8d062ebd3979",
        "colab": {
          "base_uri": "https://localhost:8080/"
        }
      },
      "execution_count": 33,
      "outputs": [
        {
          "output_type": "stream",
          "name": "stdout",
          "text": [
            "{'AGE': 0.6701610663198792, 'SEX': 0.6796398031461459, 'S1': 0.6879892405294864, 'S2': 0.6790735046612912, 'S3': 0.6687449915152439, 'S4': 0.6596996462512447, 'S6': 0.6564529653870551}\n"
          ]
        }
      ]
    },
    {
      "cell_type": "markdown",
      "source": [
        ""
      ],
      "metadata": {
        "id": "uJd9riXm5IiT"
      }
    },
    {
      "cell_type": "markdown",
      "source": [
        "## Q.20\n"
      ],
      "metadata": {
        "id": "J8k2brYQQARI"
      }
    },
    {
      "cell_type": "code",
      "source": [
        "import numpy as np\n",
        "import pandas as pd\n",
        "from sklearn import linear_model\n",
        "from sklearn import metrics\n",
        "from sklearn.model_selection import train_test_split\n",
        "import seaborn as sn\n",
        "import matplotlib.pyplot as plt\n",
        "data = pd.read_csv('https://raw.githubusercontent.com/inetguru/IDS-CB35533/main/virus.csv')\n",
        "train_data, test_data = train_test_split(data, train_size=0.8, random_state=1)\n",
        "\n",
        "model2 = linear_model.LogisticRegression()\n",
        "\n",
        "data_list = data.columns.to_list()\n",
        "print(data_list)\n",
        "target = 'y'\n",
        "data_list.remove(target)\n",
        "\n",
        "accuracy_set = dict()\n",
        "\n",
        "for one_data in data_list:\n",
        "  X = train_data[[one_data]]\n",
        "  y = train_data[target]\n",
        "\n",
        "  X_test = test_data[[one_data]]\n",
        "  y_test = test_data[target]\n",
        "\n",
        "  model2.fit(X.values, y)\n",
        "\n",
        "  y_pred = model2.predict(X_test.values)\n",
        "\n",
        "  accuracy_set[one_data] = metrics.accuracy_score(y_test, y_pred)\n",
        "\n",
        "print(accuracy_set)"
      ],
      "metadata": {
        "id": "V179zS7DQNwP",
        "outputId": "eb1ae3c4-8684-48d9-c79c-1915686ff5f6",
        "colab": {
          "base_uri": "https://localhost:8080/"
        }
      },
      "execution_count": 2,
      "outputs": [
        {
          "output_type": "stream",
          "name": "stdout",
          "text": [
            "['y', 'x1', 'x2', 'x3']\n",
            "{'x1': 0.5, 'x2': 0.8333333333333334, 'x3': 0.6666666666666666}\n"
          ]
        }
      ]
    },
    {
      "cell_type": "code",
      "source": [
        "print(data.head())"
      ],
      "metadata": {
        "id": "QeCDt7G_kJVL",
        "outputId": "784dd96c-5a9a-4047-d2bc-dca70c0b6979",
        "colab": {
          "base_uri": "https://localhost:8080/"
        }
      },
      "execution_count": 14,
      "outputs": [
        {
          "output_type": "stream",
          "name": "stdout",
          "text": [
            "   y  x1  x2  x3\n",
            "0  0   3   6   5\n",
            "1  0   4  10   4\n",
            "2  1   3   5   3\n",
            "3  1   3   1   5\n",
            "4  1   3   1   5\n"
          ]
        }
      ]
    },
    {
      "cell_type": "code",
      "source": [
        "X = train_data[['x2']]\n",
        "X_test = test_data[['x2']]\n",
        "\n",
        "model2.fit(X.values, y)\n",
        "\n",
        "y_pred = model2.predict(X_test.values)\n",
        "\n",
        "print(f'Intercept = {model2.intercept_}\\nCoef = {model2.coef_}')"
      ],
      "metadata": {
        "id": "vUH3M4NhiBI2",
        "outputId": "e3972a15-150d-4d18-fba8-1bd736cc2347",
        "colab": {
          "base_uri": "https://localhost:8080/"
        }
      },
      "execution_count": 29,
      "outputs": [
        {
          "output_type": "stream",
          "name": "stdout",
          "text": [
            "Intercept = [6.01727786]\n",
            "Coef = [[-0.86821741]]\n"
          ]
        }
      ]
    },
    {
      "cell_type": "markdown",
      "source": [
        "## 그 표 그리기"
      ],
      "metadata": {
        "id": "_tmRuxjEilLu"
      }
    },
    {
      "cell_type": "code",
      "source": [
        "confusion_matrix = pd.crosstab(y_test, y_pred, rownames=['Actual'], colnames=['Predicted'])\n",
        "sn.heatmap(confusion_matrix, annot=True)\n",
        "plt.show()"
      ],
      "metadata": {
        "id": "izVAsFQOik1h",
        "outputId": "1b964439-48e5-4904-ddfd-f95acab8ba7e",
        "colab": {
          "base_uri": "https://localhost:8080/",
          "height": 283
        }
      },
      "execution_count": 8,
      "outputs": [
        {
          "output_type": "display_data",
          "data": {
            "text/plain": [
              "<Figure size 432x288 with 2 Axes>"
            ],
            "image/png": "[encoded data removed]"
          },
          "metadata": {
            "needs_background": "light"
          }
        }
      ]
    },
    {
      "cell_type": "markdown",
      "source": [
        "## Multi Variable Logistic Regression"
      ],
      "metadata": {
        "id": "5cHu38mNi_ot"
      }
    },
    {
      "cell_type": "code",
      "source": [
        "X = train_data[data_list]\n",
        "X_test = test_data[data_list]\n",
        "\n",
        "model3 = linear_model.LogisticRegression()\n",
        "model3.fit(X.values, y)\n",
        "\n",
        "y_pred = model3.predict(X_test.values)\n",
        "\n",
        "print(model3.predict([[2,1,3]]))"
      ],
      "metadata": {
        "id": "9rMoemmnjD5y",
        "outputId": "862bc9b8-9385-4cc6-e9d0-f7ac348aeedd",
        "colab": {
          "base_uri": "https://localhost:8080/"
        }
      },
      "execution_count": 30,
      "outputs": [
        {
          "output_type": "stream",
          "name": "stdout",
          "text": [
            "[1]\n"
          ]
        }
      ]
    },
    {
      "cell_type": "code",
      "source": [
        "confusion_matrix = pd.crosstab(y_test, y_pred, rownames=['Actual'], colnames=['Predicted'])\n",
        "sn.heatmap(confusion_matrix, annot=True)\n",
        "plt.show()"
      ],
      "metadata": {
        "id": "ZjdW3UqwjaSK",
        "outputId": "2d85580b-47b9-407c-a354-df0be0f24046",
        "colab": {
          "base_uri": "https://localhost:8080/",
          "height": 283
        }
      },
      "execution_count": 22,
      "outputs": [
        {
          "output_type": "display_data",
          "data": {
            "text/plain": [
              "<Figure size 432x288 with 2 Axes>"
            ],
            "image/png": "[encoded data removed]"
          },
          "metadata": {
            "needs_background": "light"
          }
        }
      ]
    },
    {
      "cell_type": "markdown",
      "source": [
        "## test 만들기"
      ],
      "metadata": {
        "id": "1p1bSKnxkv_N"
      }
    },
    {
      "cell_type": "code",
      "source": [
        "test_input = [\n",
        "              [4,7,2],\n",
        "              [3,9,3],\n",
        "              [4,10,6],\n",
        "              [3,6,3],\n",
        "              [5,11,5],\n",
        "              [5,6,5]\n",
        "]\n",
        "test_output = [\n",
        "               [1],\n",
        "               [0],\n",
        "               [0],\n",
        "               [1],\n",
        "               [0],\n",
        "               [1]\n",
        "]"
      ],
      "metadata": {
        "id": "msXeHoACkOvm",
        "outputId": "53cddfd9-8d0c-42dd-ddf9-04406afd34c4",
        "colab": {
          "base_uri": "https://localhost:8080/"
        }
      },
      "execution_count": 31,
      "outputs": [
        {
          "output_type": "stream",
          "name": "stdout",
          "text": [
            "False\n"
          ]
        }
      ]
    },
    {
      "cell_type": "code",
      "source": [
        "for one_input in test_input:\n",
        "  one_vari_out = model2.predict([[ one_input[0] ]])\n",
        "  mul_vari_out = model3.predict([one_input])\n",
        "  output = test_output[test_input.index(one_input)]\n",
        "  if one_vari_out == mul_vari_out :\n",
        "    print(\"A B same\")\n",
        "  else :\n",
        "    print(\"A B diff\")\n",
        "  if one_vari_out == output :\n",
        "    print(\"A correct\")\n",
        "  elif mul_vari_out == output:\n",
        "    print(\"B correct\")\n",
        "  else:\n",
        "    print(\"Wrong\")\n",
        "  print(\"============================\")"
      ],
      "metadata": {
        "id": "hlEiwY8Zkvgi",
        "outputId": "e3fe9e4e-7b69-4b68-ed9b-03d020c14873",
        "colab": {
          "base_uri": "https://localhost:8080/"
        }
      },
      "execution_count": 32,
      "outputs": [
        {
          "output_type": "stream",
          "name": "stdout",
          "text": [
            "A B same\n",
            "A correct\n",
            "============================\n",
            "A B same\n",
            "Wrong\n",
            "============================\n",
            "A B diff\n",
            "B correct\n",
            "============================\n",
            "A B same\n",
            "A correct\n",
            "============================\n",
            "A B diff\n",
            "B correct\n",
            "============================\n",
            "A B diff\n",
            "A correct\n",
            "============================\n"
          ]
        }
      ]
    }
  ]
}