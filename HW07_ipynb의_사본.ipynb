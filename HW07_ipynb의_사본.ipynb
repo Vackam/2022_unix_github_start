{
  "nbformat": 4,
  "nbformat_minor": 0,
  "metadata": {
    "colab": {
      "name": "HW07.ipynb의 사본",
      "provenance": [],
      "include_colab_link": true
    },
    "kernelspec": {
      "name": "python3",
      "display_name": "Python 3"
    },
    "language_info": {
      "name": "python"
    }
  },
  "cells": [
    {
      "cell_type": "markdown",
      "metadata": {
        "id": "view-in-github",
        "colab_type": "text"
      },
      "source": [
        "<a href=\"https://colab.research.google.com/github/Vackam/2022_unix_github_start/blob/master/HW07_ipynb%EC%9D%98_%EC%82%AC%EB%B3%B8.ipynb\" target=\"_parent\"><img src=\"https://colab.research.google.com/assets/colab-badge.svg\" alt=\"Open In Colab\"/></a>"
      ]
    },
    {
      "cell_type": "markdown",
      "source": [
        "## Code for Q1\n",
        "For the given dataset in the following code, perform a (multi-variable) linear regression to answer to the questions in HW07\n",
        "\n",
        "*Do not change train_data and test_data*"
      ],
      "metadata": {
        "id": "fvuyMiXOPcLS"
      }
    },
    {
      "cell_type": "code",
      "source": [
        "import numpy as np\n",
        "import pandas as pd\n",
        "from sklearn import linear_model\n",
        "from sklearn import metrics\n",
        "import seaborn as sn\n",
        "import matplotlib.pyplot as plt\n",
        "\n",
        "data = pd.read_csv('https://raw.githubusercontent.com/inetguru/IDS-CB35533/main/diabetes.csv')\n",
        "\n",
        "train_data = data[:420]\n",
        "test_data = data[421:442]\n",
        "print(train_data.head())\n",
        "\n",
        "predictors = ['BMI', 'BP']\n",
        "target = 'Y'\n",
        "\n",
        "X_test = test_data[predictors]\n",
        "y_test = test_data[target]\n",
        "# Set predictors and target\n",
        "X = train_data[predictors]\n",
        "y = train_data[target]\n",
        "# Generate a model instance for linear regression\n",
        "Model = linear_model.LinearRegression()\n",
        "# Perform Fit/Train, Check/print out the coefficients of your model\n",
        "Model.fit(X.values,y)\n",
        "print(f'Model intercept = {Model.intercept_}, Model coef = {Model.coef_}')\n",
        "# Evaluate the model using the test data, Get r2 score.\n",
        "y_pred = Model.predict(X_test.values)\n",
        "print('MSE =', metrics.mean_squared_error(y_test, y_pred))\n",
        "print('R2 Score =', metrics.r2_score(test_data[['Y']], y_pred))\n",
        "\n",
        "test_pred = Model.predict([[30.5, 100.0]])\n",
        "print(test_pred)"
      ],
      "metadata": {
        "id": "7Bg-CHi6P7T4",
        "outputId": "a398cbac-2e14-42f1-c90a-a08f3a8dc342",
        "colab": {
          "base_uri": "https://localhost:8080/"
        }
      },
      "execution_count": 19,
      "outputs": [
        {
          "output_type": "stream",
          "name": "stdout",
          "text": [
            "   AGE  SEX   BMI     BP   S1     S2    S3   S4      S5  S6    Y\n",
            "0   59    2  32.1  101.0  157   93.2  38.0  4.0  4.8598  87  151\n",
            "1   48    1  21.6   87.0  183  103.2  70.0  3.0  3.8918  69   75\n",
            "2   72    2  30.5   93.0  156   93.6  41.0  4.0  4.6728  85  141\n",
            "3   24    1  25.3   84.0  198  131.4  40.0  5.0  4.8903  89  206\n",
            "4   50    1  23.0  101.0  192  125.4  52.0  4.0  4.2905  80  135\n",
            "Model intercept = -202.8237181361084, Model coef = [8.42629323 1.40835103]\n",
            "MSE = 2521.597070760351\n",
            "R2 Score = 0.4890345591616515\n",
            "[195.01332869]\n"
          ]
        }
      ]
    },
    {
      "cell_type": "markdown",
      "source": [
        "## Code for Q2\n",
        "For the given dataset in the following code, perform a logistic regression to answer the questions in HW07\n",
        "\n",
        "*Do not change train_data and test_data*\n"
      ],
      "metadata": {
        "id": "J8k2brYQQARI"
      }
    },
    {
      "cell_type": "code",
      "source": [
        "import numpy as np\n",
        "import pandas as pd\n",
        "from sklearn import linear_model\n",
        "from sklearn import metrics\n",
        "from sklearn.model_selection import train_test_split\n",
        "import seaborn as sn\n",
        "import matplotlib.pyplot as plt\n",
        "\n",
        "data = pd.read_csv('https://raw.githubusercontent.com/inetguru/IDS-CB35533/main/pima_diabetes.csv')\n",
        "print(data.head())\n",
        "predictors = ['Pregnancies', 'Glucose', 'BloodPressure', 'SkinThickness', 'Insulin', 'BMI', 'DiabetesPedigreeFunction', 'Age']\n",
        "targets = 'Outcome'\n",
        "train_data, test_data = train_test_split(data, train_size=0.8, random_state=1)\n",
        "accuracy_table = dict()\n",
        "\n",
        "model = linear_model.LogisticRegression()\n",
        "\n",
        "for each_col in predictors:\n",
        "  X = train_data[[each_col]]\n",
        "  y = train_data['Outcome']\n",
        "\n",
        "  X_test = test_data[[each_col]]\n",
        "  y_test = test_data['Outcome']\n",
        "\n",
        "  model.fit(X,y)\n",
        "  y_pred = model.predict(X_test)\n",
        "  if each_col == 'Glucose':\n",
        "    print(f'Model intercept = {model.intercept_}, Model coef = {model.coef_}')\n",
        "\n",
        "  accuracy_table[each_col] = metrics.accuracy_score(y_test, y_pred)\n",
        "  \n",
        "print(accuracy_table)\n",
        "\n",
        "print(\"=======================================\")\n",
        "# Set predictors and target\n",
        "predictor = ['Pregnancies', 'Glucose', 'Insulin']\n",
        "X = train_data[predictor]\n",
        "\n",
        "X_test = test_data[predictor]\n",
        "\n",
        "model.fit(X.values,y)\n",
        "y_pred = model.predict(X_test.values)\n",
        "test_pred = model.predict([[10, 150, 10]])\n",
        "print(test_pred)\n",
        "confusion_matrix = pd.crosstab(y_test, y_pred, rownames=['Actual'], colnames=['Predicted'])\n",
        "sn.heatmap(confusion_matrix, annot=True)\n",
        "plt.show()\n",
        "\n",
        "print(metrics.accuracy_score(y_test, y_pred))\n",
        "\n",
        "# Generate a model instance for linear regression\n",
        "\n",
        "# Perform Fit/Train, Check/print out the coefficients of your model\n",
        "\n",
        "\n",
        "# Evaluate the model using the test data, Get r2 score."
      ],
      "metadata": {
        "id": "V179zS7DQNwP",
        "outputId": "46ff30ea-0518-4809-9f23-94d7abdf20bc",
        "colab": {
          "base_uri": "https://localhost:8080/",
          "height": 627
        }
      },
      "execution_count": 37,
      "outputs": [
        {
          "output_type": "stream",
          "name": "stdout",
          "text": [
            "   Pregnancies  Glucose  BloodPressure  SkinThickness  Insulin   BMI  \\\n",
            "0            6      148             72             35        0  33.6   \n",
            "1            1       85             66             29        0  26.6   \n",
            "2            8      183             64              0        0  23.3   \n",
            "3            1       89             66             23       94  28.1   \n",
            "4            0      137             40             35      168  43.1   \n",
            "\n",
            "   DiabetesPedigreeFunction  Age  Outcome  \n",
            "0                     0.627   50        1  \n",
            "1                     0.351   31        0  \n",
            "2                     0.672   32        1  \n",
            "3                     0.167   21        0  \n",
            "4                     2.288   33        1  \n",
            "Model intercept = [-5.51983416], Model coef = [[0.03903946]]\n",
            "{'Pregnancies': 0.6688311688311688, 'Glucose': 0.7597402597402597, 'BloodPressure': 0.6428571428571429, 'SkinThickness': 0.6428571428571429, 'Insulin': 0.6428571428571429, 'BMI': 0.6688311688311688, 'DiabetesPedigreeFunction': 0.6753246753246753, 'Age': 0.6493506493506493}\n",
            "=======================================\n",
            "[1]\n"
          ]
        },
        {
          "output_type": "display_data",
          "data": {
            "text/plain": [
              "<Figure size 432x288 with 2 Axes>"
            ],
            "image/png": "[encoded data removed]"
          },
          "metadata": {
            "needs_background": "light"
          }
        },
        {
          "output_type": "stream",
          "name": "stdout",
          "text": [
            "0.7272727272727273\n"
          ]
        }
      ]
    }
  ]
}